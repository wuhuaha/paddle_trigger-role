{
 "cells": [
  {
   "cell_type": "markdown",
   "metadata": {
    "collapsed": false
   },
   "source": [
    "## 简介\n",
    "本项目提供 事件抽取任务 baseline，比赛详情可查看[比赛详情](https://aistudio.baidu.com/aistudio/competition/detail/32?isFromCcf=true)  \n",
    "具体流程可以参考 event-extract-baseline-seq-labeling/README.md  \n",
    "详细代码 可查看baseline目录\n",
    "本项目提供数据为demo数据，如需使用完整数据可在比赛页面下载。  \n",
    "**特别提示**：CPU环境运行可能存在内存溢出的问题，建议使用GPU环境运行代码。"
   ]
  },
  {
   "cell_type": "code",
   "execution_count": 1,
   "metadata": {
    "collapsed": false
   },
   "outputs": [
    {
     "name": "stdout",
     "output_type": "stream",
     "text": [
      "/home/aistudio/baseline\n"
     ]
    }
   ],
   "source": [
    "# 切换到代码目录\n",
    "%cd baseline/"
   ]
  },
  {
   "cell_type": "code",
   "execution_count": 2,
   "metadata": {
    "collapsed": false
   },
   "outputs": [
    {
     "name": "stdout",
     "output_type": "stream",
     "text": [
      "[Errno 2] No such file or directory: './model'\n",
      "/home/aistudio/baseline\n",
      "--2020-09-19 16:21:31--  https://ernie.bj.bcebos.com/ERNIE_1.0_max-len-512.tar.gz\n",
      "Resolving ernie.bj.bcebos.com (ernie.bj.bcebos.com)... 182.61.200.229, 182.61.200.195, 2409:8c00:6c21:10ad:0:ff:b00e:67d\n",
      "Connecting to ernie.bj.bcebos.com (ernie.bj.bcebos.com)|182.61.200.229|:443... connected.\n",
      "HTTP request sent, awaiting response... 200 OK\n",
      "Length: 367271417 (350M) [application/x-gzip]\n",
      "Saving to: ‘ERNIE_1.0_max-len-512.tar.gz’\n",
      "\n",
      "ERNIE_1.0_max-len-5 100%[===================>] 350.26M  76.3MB/s    in 5.0s    \n",
      "\n",
      "2020-09-19 16:21:36 (69.7 MB/s) - ‘ERNIE_1.0_max-len-512.tar.gz’ saved [367271417/367271417]\n",
      "\n",
      "/home/aistudio\n"
     ]
    }
   ],
   "source": [
    "# 下载预训练的ERNIE模型\n",
    "%cd ./model\n",
    "!wget https://ernie.bj.bcebos.com/ERNIE_1.0_max-len-512.tar.gz --no-check-certificate\n",
    "!mkdir ERNIE_1.0_max-len-512  # ernie模型保存目录\n",
    "!tar -zxf ERNIE_1.0_max-len-512.tar.gz -C ERNIE_1.0_max-len-512 \n",
    "!rm ERNIE_1.0_max-len-512.tar.gz\n",
    "%cd ../"
   ]
  },
  {
   "cell_type": "code",
   "execution_count": 3,
   "metadata": {
    "collapsed": false
   },
   "outputs": [
    {
     "name": "stdout",
     "output_type": "stream",
     "text": [
      "python: can't open file 'bin/data_process.py': [Errno 2] No such file or directory\r\n"
     ]
    }
   ],
   "source": [
    "# 处理样本数据\n",
    "# 将原始格式的数据处理成模型读入所需要的格式，并随机划分训练集（80%）和测试集（20%），在 `./data/` 目录下创建 `train.json`、`dev.json`、`test.json` 文件\n",
    "!python bin/data_process.py origin_events_process ./data/eet_events.json ./data/"
   ]
  },
  {
   "cell_type": "code",
   "execution_count": 19,
   "metadata": {
    "collapsed": false
   },
   "outputs": [
    {
     "name": "stdout",
     "output_type": "stream",
     "text": [
      "include event type 4,  create label 9\r\n"
     ]
    }
   ],
   "source": [
    "# 处理schema生成序列标注标签文档\n",
    "# 触发词识别模型标签，保存到文件 `./dict/vocab_trigger_label_map.txt`\n",
    "!python bin/data_process.py schema_event_type_process ./dict/event_schema.json ./dict/vocab_trigger_label_map.txt"
   ]
  },
  {
   "cell_type": "code",
   "execution_count": 20,
   "metadata": {
    "collapsed": false
   },
   "outputs": [
    {
     "name": "stdout",
     "output_type": "stream",
     "text": [
      "include roles 7，create label 15\r\n"
     ]
    }
   ],
   "source": [
    "# 论元角色识别模型标签，保存到文件 `./dict/vocab_roles_label_map.txt`\n",
    "!python bin/data_process.py schema_role_process ./dict/event_schema.json ./dict/vocab_roles_label_map.txt"
   ]
  },
  {
   "cell_type": "code",
   "execution_count": 3,
   "metadata": {
    "collapsed": false
   },
   "outputs": [
    {
     "name": "stdout",
     "output_type": "stream",
     "text": [
      "+ dirname script/train_event_trigger.sh\n",
      "+ readlink -f script\n",
      "+ HERE=/home/aistudio/baseline/bin/script\n",
      "+ cd /home/aistudio/baseline/bin/script/..\n",
      "+ export CUDA_VISIBLE_DEVICES=0\n",
      "+ export FLAGS_eager_delete_tensor_gb=0\n",
      "+ export FLAGS_fraction_of_gpu_memory_to_use=0.3\n",
      "+ DATA_DIR=/home/aistudio/baseline/bin/script/../../data\n",
      "+ SAVE_CKPT=/home/aistudio/baseline/bin/script/../../save_model/trigger\n",
      "+ MODEL_PATH=/home/aistudio/baseline/bin/script/../../model/ERNIE_1.0_max-len-512\n",
      "+ DICT=/home/aistudio/baseline/bin/script/../../dict\n",
      "+ python run_event_trigger.py --use_cuda true --do_train true --do_val true --do_test true --batch_size 32 --init_pretraining_params /home/aistudio/baseline/bin/script/../../model/ERNIE_1.0_max-len-512/params --trigger_pred_save_path /home/aistudio/baseline/bin/script/../../save_model/trigger/pred_trigger.json --chunk_scheme IOB --label_map_config /home/aistudio/baseline/bin/script/../../dict/vocab_trigger_label_map.txt --train_set /home/aistudio/baseline/bin/script/../../data/train.json --dev_set /home/aistudio/baseline/bin/script/../../data/dev.json --test_set /home/aistudio/baseline/bin/script/../../data/test.json --vocab_path /home/aistudio/baseline/bin/script/../../model/ERNIE_1.0_max-len-512/vocab.txt --ernie_config_path /home/aistudio/baseline/bin/script/../../model/ERNIE_1.0_max-len-512/ernie_config.json --checkpoints /home/aistudio/baseline/bin/script/../../save_model/trigger --save_steps 500 --weight_decay 0.01 --warmup_proportion 0.1 --validation_steps 100 --use_fp16 false --epoch 6 --max_seq_len 300 --learning_rate 2e-4 --crf_learning_rate 0.2 --skip_steps 20 --num_iteration_per_drop_scope 1 --random_seed 1\n",
      "=========ERNIE CONFIG============\n",
      "attention_probs_dropout_prob: 0.1\n",
      "hidden_act: relu\n",
      "hidden_dropout_prob: 0.1\n",
      "hidden_size: 768\n",
      "initializer_range: 0.02\n",
      "max_position_embeddings: 513\n",
      "num_attention_heads: 12\n",
      "num_hidden_layers: 12\n",
      "type_vocab_size: 2\n",
      "vocab_size: 18000\n",
      "------------------------------------------------\n",
      "=========ERNIE CONFIG============\n",
      "=========MODEL CONFIG============\n",
      "-----------  Configuration Arguments -----------\n",
      "batch_size: 32\n",
      "bset_not_null_pred_thres: 0.95\n",
      "checkpoints: /home/aistudio/baseline/bin/script/../../save_model/trigger\n",
      "chunk_scheme: IOB\n",
      "crf_learning_rate: 0.2\n",
      "decr_every_n_nan_or_inf: 2\n",
      "decr_ratio: 0.8\n",
      "dev_set: /home/aistudio/baseline/bin/script/../../data/dev.json\n",
      "diagnostic: None\n",
      "diagnostic_save: None\n",
      "do_lower_case: True\n",
      "do_test: True\n",
      "do_train: True\n",
      "do_val: True\n",
      "doc_stride: 128\n",
      "enable_ce: False\n",
      "epoch: 6\n",
      "ernie_config_path: /home/aistudio/baseline/bin/script/../../model/ERNIE_1.0_max-len-512/ernie_config.json\n",
      "for_cn: True\n",
      "in_tokens: False\n",
      "incr_every_n_steps: 100\n",
      "incr_ratio: 2.0\n",
      "init_checkpoint: None\n",
      "init_loss_scaling: 102400\n",
      "init_pretraining_params: /home/aistudio/baseline/bin/script/../../model/ERNIE_1.0_max-len-512/params\n",
      "is_classify: True\n",
      "is_distributed: False\n",
      "is_regression: False\n",
      "label_map_config: /home/aistudio/baseline/bin/script/../../dict/vocab_trigger_label_map.txt\n",
      "learning_rate: 0.0002\n",
      "lr_scheduler: linear_warmup_decay\n",
      "max_answer_length: 100\n",
      "max_query_length: 64\n",
      "max_seq_len: 300\n",
      "metric: simple_accuracy\n",
      "metrics: True\n",
      "n_best_size: 20\n",
      "null_score_diff_threshold: 0.0\n",
      "num_iteration_per_drop_scope: 1\n",
      "num_labels: 9\n",
      "predict_batch_size: None\n",
      "random_seed: 1\n",
      "role_pred_save_path: None\n",
      "save_steps: 500\n",
      "shuffle: True\n",
      "skip_steps: 20\n",
      "task_id: 0\n",
      "test_save: ./checkpoints/test_result\n",
      "test_set: /home/aistudio/baseline/bin/script/../../data/test.json\n",
      "tokenizer: FullTokenizer\n",
      "train_set: /home/aistudio/baseline/bin/script/../../data/train.json\n",
      "trigger_pred_save_path: /home/aistudio/baseline/bin/script/../../save_model/trigger/pred_trigger.json\n",
      "use_cuda: True\n",
      "use_dynamic_loss_scaling: True\n",
      "use_fast_executor: False\n",
      "use_fp16: False\n",
      "use_multi_gpu_test: False\n",
      "validation_steps: 100\n",
      "verbose: False\n",
      "vocab_path: /home/aistudio/baseline/bin/script/../../model/ERNIE_1.0_max-len-512/vocab.txt\n",
      "warmup_proportion: 0.1\n",
      "weight_decay: 0.01\n",
      "------------------------------------------------\n",
      "=========MODEL CONFIG============\n",
      "Device count: 1\n",
      "Num train examples: 1209\n",
      "Max train steps: 226\n",
      "Num warmup steps: 22\n",
      "2020-03-26 18:54:53,328-WARNING: paddle.fluid.layers.py_reader() may be deprecated in the near future. Please use paddle.fluid.io.DataLoader.from_generator() instead.\n",
      "[WARNING] 2020-03-26 18:54:53,328 [       io.py:  690]:\tpaddle.fluid.layers.py_reader() may be deprecated in the near future. Please use paddle.fluid.io.DataLoader.from_generator() instead.\n",
      "2020-03-26 18:54:55,393-WARNING: paddle.fluid.layers.py_reader() may be deprecated in the near future. Please use paddle.fluid.io.DataLoader.from_generator() instead.\n",
      "[WARNING] 2020-03-26 18:54:55,393 [       io.py:  690]:\tpaddle.fluid.layers.py_reader() may be deprecated in the near future. Please use paddle.fluid.io.DataLoader.from_generator() instead.\n",
      "W0326 18:54:58.414651   106 device_context.cc:236] Please NOTE: device: 0, CUDA Capability: 70, Driver API Version: 9.2, Runtime API Version: 9.0\n",
      "W0326 18:54:58.470942   106 device_context.cc:244] device: 0, cuDNN Version: 7.3.\n",
      "2020-03-26 18:55:01,266-INFO: Load pretraining parameters from /home/aistudio/baseline/bin/script/../../model/ERNIE_1.0_max-len-512/params.\n",
      "[INFO] 2020-03-26 18:55:01,266 [     init.py:   95]:\tLoad pretraining parameters from /home/aistudio/baseline/bin/script/../../model/ERNIE_1.0_max-len-512/params.\n",
      "I0326 18:55:01.455898   106 parallel_executor.cc:421] The number of CUDAPlace, which is used in ParallelExecutor, is 1. And the Program will be copied 1 copies\n",
      "I0326 18:55:01.606706   106 build_strategy.cc:363] SeqOnlyAllReduceOps:0, num_trainers:1\n",
      "I0326 18:55:01.831568   106 parallel_executor.cc:285] Inplace strategy is enabled, when build_strategy.enable_inplace = True\n",
      "I0326 18:55:01.977290   106 parallel_executor.cc:368] Garbage collection strategy is enabled, when FLAGS_eager_delete_tensor_gb = 0\n",
      "【train】epoch: 1, step: 20, loss: 5.890693, f1: 0.5000, precision: 0.5833, recall: 0.4375, speed: 1.869 steps/s\n",
      "【train】epoch: 2, step: 40, loss: 1.279787, f1: 0.7812, precision: 0.7812, recall: 0.7812, speed: 2.122 steps/s\n",
      "【train】epoch: 2, step: 60, loss: 1.890894, f1: 0.6562, precision: 0.6562, recall: 0.6562, speed: 2.103 steps/s\n",
      "【train】epoch: 3, step: 80, loss: 1.076983, f1: 0.7941, precision: 0.7500, recall: 0.8438, speed: 2.162 steps/s\n",
      "【train】epoch: 3, step: 100, loss: 1.668908, f1: 0.7576, precision: 0.7353, recall: 0.7812, speed: 2.016 steps/s\n",
      "【dev】precision 0.7599 , recall 0.8251, f1-score 0.7911\n",
      "【test】precision 0.7599 , recall 0.8251, f1-score 0.7911\n",
      "【train】epoch: 4, step: 120, loss: 0.584994, f1: 0.8529, precision: 0.8056, recall: 0.9062, speed: 1.464 steps/s\n",
      "【train】epoch: 5, step: 140, loss: 0.882643, f1: 0.8358, precision: 0.8000, recall: 0.8750, speed: 2.095 steps/s\n",
      "【train】epoch: 5, step: 160, loss: 0.770464, f1: 0.8571, precision: 0.8710, recall: 0.8438, speed: 2.339 steps/s\n",
      "【train】epoch: 5, step: 180, loss: 0.815665, f1: 0.8923, precision: 0.8788, recall: 0.9062, speed: 2.078 steps/s\n",
      "【train】epoch: 5, step: 200, loss: 0.801163, f1: 0.8571, precision: 0.8710, recall: 0.8438, speed: 2.102 steps/s\n",
      "【dev】precision 0.8418 , recall 0.8779, f1-score 0.8595\n",
      "【test】precision 0.8418 , recall 0.8779, f1-score 0.8595\n",
      "【train】epoch: 5, step: 220, loss: 0.568296, f1: 0.8571, precision: 0.8710, recall: 0.8438, speed: 1.392 steps/s\n",
      "【dev】precision 0.8270 , recall 0.8680, f1-score 0.8470\n",
      "examples 303 res 303\n"
     ]
    }
   ],
   "source": [
    "# 训练触发词识别模型\n",
    "!sh train_trigger.sh"
   ]
  },
  {
   "cell_type": "code",
   "execution_count": 4,
   "metadata": {
    "collapsed": false
   },
   "outputs": [
    {
     "name": "stdout",
     "output_type": "stream",
     "text": [
      "+ dirname script/predict_event_trigger.sh\n",
      "+ readlink -f script\n",
      "+ HERE=/home/aistudio/baseline/bin/script\n",
      "+ cd /home/aistudio/baseline/bin/script/..\n",
      "+ export CUDA_VISIBLE_DEVICES=0\n",
      "+ export FLAGS_eager_delete_tensor_gb=0\n",
      "+ export FLAGS_fraction_of_gpu_memory_to_use=0.3\n",
      "+ DATA_DIR=/home/aistudio/baseline/bin/script/../../data\n",
      "+ MODEL_PATH=/home/aistudio/baseline/bin/script/../../model/ERNIE_1.0_max-len-512\n",
      "+ CKPT_PATH=/home/aistudio/baseline/bin/script/../../save_model/trigger/final_model\n",
      "+ DICT=/home/aistudio/baseline/bin/script/../../dict\n",
      "+ python run_event_trigger.py --use_cuda true --do_train false --do_val true --do_test true --batch_size 16 --init_pretraining_params /home/aistudio/baseline/bin/script/../../model/ERNIE_1.0_max-len-512/params --trigger_pred_save_path /home/aistudio/baseline/bin/script/../../save_model/trigger/final_model/../pred_trigger.json --chunk_scheme IOB --label_map_config /home/aistudio/baseline/bin/script/../../dict/vocab_trigger_label_map.txt --train_set /home/aistudio/baseline/bin/script/../../data/train.json --dev_set /home/aistudio/baseline/bin/script/../../data/dev.json --test_set /home/aistudio/baseline/bin/script/../../data/test.json --vocab_path /home/aistudio/baseline/bin/script/../../model/ERNIE_1.0_max-len-512/vocab.txt --ernie_config_path /home/aistudio/baseline/bin/script/../../model/ERNIE_1.0_max-len-512/ernie_config.json --save_steps 500 --weight_decay 0.01 --warmup_proportion 0.1 --validation_steps 100 --use_fp16 false --epoch 6 --max_seq_len 300 --learning_rate 8e-5 --skip_steps 20 --num_iteration_per_drop_scope 1 --init_checkpoint /home/aistudio/baseline/bin/script/../../save_model/trigger/final_model --random_seed 1\n",
      "=========ERNIE CONFIG============\n",
      "attention_probs_dropout_prob: 0.1\n",
      "hidden_act: relu\n",
      "hidden_dropout_prob: 0.1\n",
      "hidden_size: 768\n",
      "initializer_range: 0.02\n",
      "max_position_embeddings: 513\n",
      "num_attention_heads: 12\n",
      "num_hidden_layers: 12\n",
      "type_vocab_size: 2\n",
      "vocab_size: 18000\n",
      "------------------------------------------------\n",
      "=========ERNIE CONFIG============\n",
      "=========MODEL CONFIG============\n",
      "-----------  Configuration Arguments -----------\n",
      "batch_size: 16\n",
      "bset_not_null_pred_thres: 0.95\n",
      "checkpoints: checkpoints\n",
      "chunk_scheme: IOB\n",
      "crf_learning_rate: 0.2\n",
      "decr_every_n_nan_or_inf: 2\n",
      "decr_ratio: 0.8\n",
      "dev_set: /home/aistudio/baseline/bin/script/../../data/dev.json\n",
      "diagnostic: None\n",
      "diagnostic_save: None\n",
      "do_lower_case: True\n",
      "do_test: True\n",
      "do_train: False\n",
      "do_val: True\n",
      "doc_stride: 128\n",
      "enable_ce: False\n",
      "epoch: 6\n",
      "ernie_config_path: /home/aistudio/baseline/bin/script/../../model/ERNIE_1.0_max-len-512/ernie_config.json\n",
      "for_cn: True\n",
      "in_tokens: False\n",
      "incr_every_n_steps: 100\n",
      "incr_ratio: 2.0\n",
      "init_checkpoint: /home/aistudio/baseline/bin/script/../../save_model/trigger/final_model\n",
      "init_loss_scaling: 102400\n",
      "init_pretraining_params: /home/aistudio/baseline/bin/script/../../model/ERNIE_1.0_max-len-512/params\n",
      "is_classify: True\n",
      "is_distributed: False\n",
      "is_regression: False\n",
      "label_map_config: /home/aistudio/baseline/bin/script/../../dict/vocab_trigger_label_map.txt\n",
      "learning_rate: 8e-05\n",
      "lr_scheduler: linear_warmup_decay\n",
      "max_answer_length: 100\n",
      "max_query_length: 64\n",
      "max_seq_len: 300\n",
      "metric: simple_accuracy\n",
      "metrics: True\n",
      "n_best_size: 20\n",
      "null_score_diff_threshold: 0.0\n",
      "num_iteration_per_drop_scope: 1\n",
      "num_labels: 9\n",
      "predict_batch_size: None\n",
      "random_seed: 1\n",
      "role_pred_save_path: None\n",
      "save_steps: 500\n",
      "shuffle: True\n",
      "skip_steps: 20\n",
      "task_id: 0\n",
      "test_save: ./checkpoints/test_result\n",
      "test_set: /home/aistudio/baseline/bin/script/../../data/test.json\n",
      "tokenizer: FullTokenizer\n",
      "train_set: /home/aistudio/baseline/bin/script/../../data/train.json\n",
      "trigger_pred_save_path: /home/aistudio/baseline/bin/script/../../save_model/trigger/final_model/../pred_trigger.json\n",
      "use_cuda: True\n",
      "use_dynamic_loss_scaling: True\n",
      "use_fast_executor: False\n",
      "use_fp16: False\n",
      "use_multi_gpu_test: False\n",
      "validation_steps: 100\n",
      "verbose: False\n",
      "vocab_path: /home/aistudio/baseline/bin/script/../../model/ERNIE_1.0_max-len-512/vocab.txt\n",
      "warmup_proportion: 0.1\n",
      "weight_decay: 0.01\n",
      "------------------------------------------------\n",
      "=========MODEL CONFIG============\n",
      "2020-03-26 18:58:31,604-WARNING: paddle.fluid.layers.py_reader() may be deprecated in the near future. Please use paddle.fluid.io.DataLoader.from_generator() instead.\n",
      "[WARNING] 2020-03-26 18:58:31,604 [       io.py:  690]:\tpaddle.fluid.layers.py_reader() may be deprecated in the near future. Please use paddle.fluid.io.DataLoader.from_generator() instead.\n",
      "W0326 18:58:33.054620   161 device_context.cc:236] Please NOTE: device: 0, CUDA Capability: 70, Driver API Version: 9.2, Runtime API Version: 9.0\n",
      "W0326 18:58:33.058804   161 device_context.cc:244] device: 0, cuDNN Version: 7.3.\n",
      "2020-03-26 18:58:35,331-INFO: Load model from /home/aistudio/baseline/bin/script/../../save_model/trigger/final_model\n",
      "[INFO] 2020-03-26 18:58:35,331 [     init.py:   69]:\tLoad model from /home/aistudio/baseline/bin/script/../../save_model/trigger/final_model\n",
      "【dev】precision 0.8270 , recall 0.8680, f1-score 0.8470\n",
      "examples 303 res 303\n"
     ]
    }
   ],
   "source": [
    "# 预测触发词结果\n",
    "!sh predict_trigger.sh"
   ]
  },
  {
   "cell_type": "code",
   "execution_count": 5,
   "metadata": {
    "collapsed": false
   },
   "outputs": [
    {
     "name": "stdout",
     "output_type": "stream",
     "text": [
      "+ dirname script/train_event_role.sh\n",
      "+ readlink -f script\n",
      "+ HERE=/home/aistudio/baseline/bin/script\n",
      "+ cd /home/aistudio/baseline/bin/script/..\n",
      "+ export CUDA_VISIBLE_DEVICES=0\n",
      "+ export FLAGS_eager_delete_tensor_gb=0\n",
      "+ export FLAGS_fraction_of_gpu_memory_to_use=0.3\n",
      "+ DATA_DIR=/home/aistudio/baseline/bin/script/../../data\n",
      "+ SAVE_CKPT=/home/aistudio/baseline/bin/script/../../save_model/role\n",
      "+ MODEL_PATH=/home/aistudio/baseline/bin/script/../../model/ERNIE_1.0_max-len-512\n",
      "+ DICT=/home/aistudio/baseline/bin/script/../../dict\n",
      "+ python run_event_role.py --use_cuda true --do_train true --do_val true --do_test true --batch_size 32 --init_pretraining_params /home/aistudio/baseline/bin/script/../../model/ERNIE_1.0_max-len-512/params --trigger_pred_save_path /home/aistudio/baseline/bin/script/../../save_model/role/pred_role.json --chunk_scheme IOB --label_map_config /home/aistudio/baseline/bin/script/../../dict/vocab_roles_label_map.txt --train_set /home/aistudio/baseline/bin/script/../../data/train.json --dev_set /home/aistudio/baseline/bin/script/../../data/dev.json --test_set /home/aistudio/baseline/bin/script/../../data/test.json --vocab_path /home/aistudio/baseline/bin/script/../../model/ERNIE_1.0_max-len-512/vocab.txt --ernie_config_path /home/aistudio/baseline/bin/script/../../model/ERNIE_1.0_max-len-512/ernie_config.json --checkpoints /home/aistudio/baseline/bin/script/../../save_model/role --save_steps 500 --weight_decay 0.0 --warmup_proportion 0.1 --validation_steps 100 --use_fp16 false --epoch 6 --max_seq_len 300 --crf_learning_rate 0.2 --learning_rate 2e-4 --skip_steps 20 --num_iteration_per_drop_scope 1 --random_seed 1\n",
      "=========ERNIE CONFIG============\n",
      "attention_probs_dropout_prob: 0.1\n",
      "hidden_act: relu\n",
      "hidden_dropout_prob: 0.1\n",
      "hidden_size: 768\n",
      "initializer_range: 0.02\n",
      "max_position_embeddings: 513\n",
      "num_attention_heads: 12\n",
      "num_hidden_layers: 12\n",
      "type_vocab_size: 2\n",
      "vocab_size: 18000\n",
      "------------------------------------------------\n",
      "=========ERNIE CONFIG============\n",
      "-----------  Configuration Arguments -----------\n",
      "batch_size: 32\n",
      "bset_not_null_pred_thres: 0.95\n",
      "checkpoints: /home/aistudio/baseline/bin/script/../../save_model/role\n",
      "chunk_scheme: IOB\n",
      "crf_learning_rate: 0.2\n",
      "decr_every_n_nan_or_inf: 2\n",
      "decr_ratio: 0.8\n",
      "dev_set: /home/aistudio/baseline/bin/script/../../data/dev.json\n",
      "diagnostic: None\n",
      "diagnostic_save: None\n",
      "do_lower_case: True\n",
      "do_test: True\n",
      "do_train: True\n",
      "do_val: True\n",
      "doc_stride: 128\n",
      "enable_ce: False\n",
      "epoch: 6\n",
      "ernie_config_path: /home/aistudio/baseline/bin/script/../../model/ERNIE_1.0_max-len-512/ernie_config.json\n",
      "for_cn: True\n",
      "in_tokens: False\n",
      "incr_every_n_steps: 100\n",
      "incr_ratio: 2.0\n",
      "init_checkpoint: None\n",
      "init_loss_scaling: 102400\n",
      "init_pretraining_params: /home/aistudio/baseline/bin/script/../../model/ERNIE_1.0_max-len-512/params\n",
      "is_classify: True\n",
      "is_distributed: False\n",
      "is_regression: False\n",
      "label_map_config: /home/aistudio/baseline/bin/script/../../dict/vocab_roles_label_map.txt\n",
      "learning_rate: 0.0002\n",
      "lr_scheduler: linear_warmup_decay\n",
      "max_answer_length: 100\n",
      "max_query_length: 64\n",
      "max_seq_len: 300\n",
      "metric: simple_accuracy\n",
      "metrics: True\n",
      "n_best_size: 20\n",
      "null_score_diff_threshold: 0.0\n",
      "num_iteration_per_drop_scope: 1\n",
      "num_labels: 15\n",
      "predict_batch_size: None\n",
      "random_seed: 1\n",
      "role_pred_save_path: None\n",
      "save_steps: 500\n",
      "shuffle: True\n",
      "skip_steps: 20\n",
      "task_id: 0\n",
      "test_save: ./checkpoints/test_result\n",
      "test_set: /home/aistudio/baseline/bin/script/../../data/test.json\n",
      "tokenizer: FullTokenizer\n",
      "train_set: /home/aistudio/baseline/bin/script/../../data/train.json\n",
      "trigger_pred_save_path: /home/aistudio/baseline/bin/script/../../save_model/role/pred_role.json\n",
      "use_cuda: True\n",
      "use_dynamic_loss_scaling: True\n",
      "use_fast_executor: False\n",
      "use_fp16: False\n",
      "use_multi_gpu_test: False\n",
      "validation_steps: 100\n",
      "verbose: False\n",
      "vocab_path: /home/aistudio/baseline/bin/script/../../model/ERNIE_1.0_max-len-512/vocab.txt\n",
      "warmup_proportion: 0.1\n",
      "weight_decay: 0.0\n",
      "------------------------------------------------\n",
      "Device count: 1\n",
      "Num train examples: 1209\n",
      "Max train steps: 226\n",
      "Num warmup steps: 22\n",
      "2020-03-26 19:00:59,999-WARNING: paddle.fluid.layers.py_reader() may be deprecated in the near future. Please use paddle.fluid.io.DataLoader.from_generator() instead.\n",
      "[WARNING] 2020-03-26 19:00:59,999 [       io.py:  690]:\tpaddle.fluid.layers.py_reader() may be deprecated in the near future. Please use paddle.fluid.io.DataLoader.from_generator() instead.\n",
      "2020-03-26 19:01:01,643-WARNING: paddle.fluid.layers.py_reader() may be deprecated in the near future. Please use paddle.fluid.io.DataLoader.from_generator() instead.\n",
      "[WARNING] 2020-03-26 19:01:01,643 [       io.py:  690]:\tpaddle.fluid.layers.py_reader() may be deprecated in the near future. Please use paddle.fluid.io.DataLoader.from_generator() instead.\n",
      "W0326 19:01:04.178481   207 device_context.cc:236] Please NOTE: device: 0, CUDA Capability: 70, Driver API Version: 9.2, Runtime API Version: 9.0\n",
      "W0326 19:01:04.182723   207 device_context.cc:244] device: 0, cuDNN Version: 7.3.\n",
      "2020-03-26 19:01:06,487-INFO: Load pretraining parameters from /home/aistudio/baseline/bin/script/../../model/ERNIE_1.0_max-len-512/params.\n",
      "[INFO] 2020-03-26 19:01:06,487 [     init.py:   95]:\tLoad pretraining parameters from /home/aistudio/baseline/bin/script/../../model/ERNIE_1.0_max-len-512/params.\n",
      "I0326 19:01:06.625298   207 parallel_executor.cc:421] The number of CUDAPlace, which is used in ParallelExecutor, is 1. And the Program will be copied 1 copies\n",
      "I0326 19:01:06.758164   207 build_strategy.cc:363] SeqOnlyAllReduceOps:0, num_trainers:1\n",
      "I0326 19:01:06.949095   207 parallel_executor.cc:285] Inplace strategy is enabled, when build_strategy.enable_inplace = True\n",
      "I0326 19:01:07.079375   207 parallel_executor.cc:368] Garbage collection strategy is enabled, when FLAGS_eager_delete_tensor_gb = 0\n",
      "【train】epoch: 1, step: 20, loss: 31.814093, f1: 0.0855, precision: 0.0769, recall: 0.0962, speed: 1.879 steps/s\n",
      "【train】epoch: 2, step: 40, loss: 17.372952, f1: 0.2687, precision: 0.1957, recall: 0.4286, speed: 2.065 steps/s\n",
      "【train】epoch: 2, step: 60, loss: 13.607416, f1: 0.3301, precision: 0.3036, recall: 0.3617, speed: 2.069 steps/s\n",
      "【train】epoch: 3, step: 80, loss: 12.876564, f1: 0.2656, precision: 0.2361, recall: 0.3036, speed: 2.122 steps/s\n",
      "【train】epoch: 3, step: 100, loss: 10.583389, f1: 0.4138, precision: 0.3158, recall: 0.6000, speed: 2.001 steps/s\n",
      "【dev】precision 0.3037 , recall 0.4758, f1-score 0.3708\n",
      "【test】precision 0.3037 , recall 0.4758, f1-score 0.3708\n",
      "【train】epoch: 4, step: 120, loss: 5.234161, f1: 0.5932, precision: 0.4930, recall: 0.7447, speed: 1.452 steps/s\n",
      "【train】epoch: 5, step: 140, loss: 5.399313, f1: 0.5985, precision: 0.5125, recall: 0.7193, speed: 2.061 steps/s\n",
      "【train】epoch: 5, step: 160, loss: 3.261757, f1: 0.6852, precision: 0.6379, recall: 0.7400, speed: 2.337 steps/s\n",
      "【train】epoch: 5, step: 180, loss: 6.726531, f1: 0.6612, precision: 0.5714, recall: 0.7843, speed: 2.062 steps/s\n",
      "【train】epoch: 5, step: 200, loss: 4.014787, f1: 0.7327, precision: 0.6727, recall: 0.8043, speed: 2.090 steps/s\n",
      "【dev】precision 0.4292 , recall 0.5806, f1-score 0.4936\n",
      "【test】precision 0.4292 , recall 0.5806, f1-score 0.4936\n",
      "【train】epoch: 5, step: 220, loss: 7.205558, f1: 0.6462, precision: 0.5753, recall: 0.7368, speed: 1.398 steps/s\n",
      "【dev】precision 0.4190 , recall 0.5685, f1-score 0.4825\n",
      "examples 303 res 303\n"
     ]
    }
   ],
   "source": [
    "# 训练论元角色识别模型\n",
    "!sh train_role.sh"
   ]
  },
  {
   "cell_type": "code",
   "execution_count": 6,
   "metadata": {
    "collapsed": false
   },
   "outputs": [
    {
     "name": "stdout",
     "output_type": "stream",
     "text": [
      "+ dirname script/predict_event_role.sh\n",
      "+ readlink -f script\n",
      "+ HERE=/home/aistudio/baseline/bin/script\n",
      "+ cd /home/aistudio/baseline/bin/script/..\n",
      "+ export CUDA_VISIBLE_DEVICES=0\n",
      "+ export FLAGS_eager_delete_tensor_gb=0\n",
      "+ export FLAGS_fraction_of_gpu_memory_to_use=0.3\n",
      "+ DATA_DIR=/home/aistudio/baseline/bin/script/../../data\n",
      "+ MODEL_PATH=/home/aistudio/baseline/bin/script/../../model/ERNIE_1.0_max-len-512\n",
      "+ CKPT_PATH=/home/aistudio/baseline/bin/script/../../save_model/role/final_model\n",
      "+ DICT=/home/aistudio/baseline/bin/script/../../dict\n",
      "+ python run_event_role.py --use_cuda true --do_train false --do_val true --do_test true --batch_size 16 --init_pretraining_params /home/aistudio/baseline/bin/script/../../model/ERNIE_1.0_max-len-512/params --trigger_pred_save_path /home/aistudio/baseline/bin/script/../../save_model/role/final_model/../pred_role.json --chunk_scheme IOB --label_map_config /home/aistudio/baseline/bin/script/../../dict/vocab_roles_label_map.txt --train_set /home/aistudio/baseline/bin/script/../../data/train.json --dev_set /home/aistudio/baseline/bin/script/../../data/dev.json --test_set /home/aistudio/baseline/bin/script/../../data/test.json --vocab_path /home/aistudio/baseline/bin/script/../../model/ERNIE_1.0_max-len-512/vocab.txt --ernie_config_path /home/aistudio/baseline/bin/script/../../model/ERNIE_1.0_max-len-512/ernie_config.json --save_steps 500 --weight_decay 0.0 --warmup_proportion 0.1 --validation_steps 100 --use_fp16 false --epoch 6 --max_seq_len 300 --learning_rate 5e-5 --skip_steps 20 --num_iteration_per_drop_scope 1 --init_checkpoint /home/aistudio/baseline/bin/script/../../save_model/role/final_model --random_seed 1\n",
      "=========ERNIE CONFIG============\n",
      "attention_probs_dropout_prob: 0.1\n",
      "hidden_act: relu\n",
      "hidden_dropout_prob: 0.1\n",
      "hidden_size: 768\n",
      "initializer_range: 0.02\n",
      "max_position_embeddings: 513\n",
      "num_attention_heads: 12\n",
      "num_hidden_layers: 12\n",
      "type_vocab_size: 2\n",
      "vocab_size: 18000\n",
      "------------------------------------------------\n",
      "=========ERNIE CONFIG============\n",
      "-----------  Configuration Arguments -----------\n",
      "batch_size: 16\n",
      "bset_not_null_pred_thres: 0.95\n",
      "checkpoints: checkpoints\n",
      "chunk_scheme: IOB\n",
      "crf_learning_rate: 0.2\n",
      "decr_every_n_nan_or_inf: 2\n",
      "decr_ratio: 0.8\n",
      "dev_set: /home/aistudio/baseline/bin/script/../../data/dev.json\n",
      "diagnostic: None\n",
      "diagnostic_save: None\n",
      "do_lower_case: True\n",
      "do_test: True\n",
      "do_train: False\n",
      "do_val: True\n",
      "doc_stride: 128\n",
      "enable_ce: False\n",
      "epoch: 6\n",
      "ernie_config_path: /home/aistudio/baseline/bin/script/../../model/ERNIE_1.0_max-len-512/ernie_config.json\n",
      "for_cn: True\n",
      "in_tokens: False\n",
      "incr_every_n_steps: 100\n",
      "incr_ratio: 2.0\n",
      "init_checkpoint: /home/aistudio/baseline/bin/script/../../save_model/role/final_model\n",
      "init_loss_scaling: 102400\n",
      "init_pretraining_params: /home/aistudio/baseline/bin/script/../../model/ERNIE_1.0_max-len-512/params\n",
      "is_classify: True\n",
      "is_distributed: False\n",
      "is_regression: False\n",
      "label_map_config: /home/aistudio/baseline/bin/script/../../dict/vocab_roles_label_map.txt\n",
      "learning_rate: 5e-05\n",
      "lr_scheduler: linear_warmup_decay\n",
      "max_answer_length: 100\n",
      "max_query_length: 64\n",
      "max_seq_len: 300\n",
      "metric: simple_accuracy\n",
      "metrics: True\n",
      "n_best_size: 20\n",
      "null_score_diff_threshold: 0.0\n",
      "num_iteration_per_drop_scope: 1\n",
      "num_labels: 15\n",
      "predict_batch_size: None\n",
      "random_seed: 1\n",
      "role_pred_save_path: None\n",
      "save_steps: 500\n",
      "shuffle: True\n",
      "skip_steps: 20\n",
      "task_id: 0\n",
      "test_save: ./checkpoints/test_result\n",
      "test_set: /home/aistudio/baseline/bin/script/../../data/test.json\n",
      "tokenizer: FullTokenizer\n",
      "train_set: /home/aistudio/baseline/bin/script/../../data/train.json\n",
      "trigger_pred_save_path: /home/aistudio/baseline/bin/script/../../save_model/role/final_model/../pred_role.json\n",
      "use_cuda: True\n",
      "use_dynamic_loss_scaling: True\n",
      "use_fast_executor: False\n",
      "use_fp16: False\n",
      "use_multi_gpu_test: False\n",
      "validation_steps: 100\n",
      "verbose: False\n",
      "vocab_path: /home/aistudio/baseline/bin/script/../../model/ERNIE_1.0_max-len-512/vocab.txt\n",
      "warmup_proportion: 0.1\n",
      "weight_decay: 0.0\n",
      "------------------------------------------------\n",
      "2020-03-26 19:04:57,418-WARNING: paddle.fluid.layers.py_reader() may be deprecated in the near future. Please use paddle.fluid.io.DataLoader.from_generator() instead.\n",
      "[WARNING] 2020-03-26 19:04:57,418 [       io.py:  690]:\tpaddle.fluid.layers.py_reader() may be deprecated in the near future. Please use paddle.fluid.io.DataLoader.from_generator() instead.\n",
      "W0326 19:04:58.923614   271 device_context.cc:236] Please NOTE: device: 0, CUDA Capability: 70, Driver API Version: 9.2, Runtime API Version: 9.0\n",
      "W0326 19:04:58.928434   271 device_context.cc:244] device: 0, cuDNN Version: 7.3.\n",
      "2020-03-26 19:05:01,231-INFO: Load model from /home/aistudio/baseline/bin/script/../../save_model/role/final_model\n",
      "[INFO] 2020-03-26 19:05:01,231 [     init.py:   69]:\tLoad model from /home/aistudio/baseline/bin/script/../../save_model/role/final_model\n",
      "【dev】precision 0.4190 , recall 0.5685, f1-score 0.4825\n",
      "examples 303 res 303\n"
     ]
    }
   ],
   "source": [
    "# 预测论元角色结果\n",
    "!sh predict_role.sh"
   ]
  },
  {
   "cell_type": "code",
   "execution_count": 4,
   "metadata": {
    "collapsed": false
   },
   "outputs": [
    {
     "name": "stdout",
     "output_type": "stream",
     "text": [
      "test data 2 eval data, inputs 303 outputs 299\n",
      "predict data 2 eval data start\n",
      "load trigger predict datas 300 from ./save_model/trigger/pred_trigger.json\n",
      "load role predict datas 300 from ./save_model/role/pred_role.json\n",
      "load schema datas 4 from ./dict/event_schema.json\n",
      "predict data 2 eval data is finished, outputs 279\n"
     ]
    }
   ],
   "source": [
    "# 评估\n",
    "# 将测试集（`./data/test.json`）转化为评估格式 `./bin/evaluate/test.json`\n",
    "!python bin/predict_eval_process.py test_data_2_eval ./data/test.json ./bin/evaluate/test.json\n",
    "# 将预测结果整合并转为评估格式 \n",
    "!python bin/predict_eval_process.py predict_data_2_eval ./save_model/trigger/pred_trigger.json ./save_model/role/pred_role.json ./dict/event_schema.json ./bin/evaluate/pred.json"
   ]
  },
  {
   "cell_type": "markdown",
   "metadata": {
    "collapsed": false
   },
   "source": [
    "请点击[此处](https://ai.baidu.com/docs#/AIStudio_Project_Notebook/a38e5576)查看本环境基本用法.  <br>\n",
    "Please click [here ](https://ai.baidu.com/docs#/AIStudio_Project_Notebook/a38e5576) for more detailed instructions. "
   ]
  }
 ],
 "metadata": {
  "kernelspec": {
   "display_name": "PaddlePaddle 1.6.2 (Python 2.7)",
   "language": "python",
   "name": "py27-paddle1.2.0"
  },
  "language_info": {
   "codemirror_mode": {
    "name": "ipython",
    "version": 2
   },
   "file_extension": ".py",
   "mimetype": "text/x-python",
   "name": "python",
   "nbconvert_exporter": "python",
   "pygments_lexer": "ipython2",
   "version": "2.7.15"
  }
 },
 "nbformat": 4,
 "nbformat_minor": 1
}
